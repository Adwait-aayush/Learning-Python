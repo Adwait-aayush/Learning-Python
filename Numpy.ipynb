{
  "nbformat": 4,
  "nbformat_minor": 0,
  "metadata": {
    "colab": {
      "provenance": [],
      "authorship_tag": "ABX9TyPHARXitX98c2SzagtqTc6k",
      "include_colab_link": true
    },
    "kernelspec": {
      "name": "python3",
      "display_name": "Python 3"
    },
    "language_info": {
      "name": "python"
    }
  },
  "cells": [
    {
      "cell_type": "markdown",
      "metadata": {
        "id": "view-in-github",
        "colab_type": "text"
      },
      "source": [
        "<a href=\"https://colab.research.google.com/github/Adwait-aayush/Learning-Python/blob/main/Numpy.ipynb\" target=\"_parent\"><img src=\"https://colab.research.google.com/assets/colab-badge.svg\" alt=\"Open In Colab\"/></a>"
      ]
    },
    {
      "cell_type": "code",
      "execution_count": null,
      "metadata": {
        "id": "HKp_HWurfs5K"
      },
      "outputs": [],
      "source": [
        "import numpy as np"
      ]
    },
    {
      "cell_type": "code",
      "source": [
        "\n",
        "array=np.array([[1,2,4],[2,3,4]])\n",
        "print(array)"
      ],
      "metadata": {
        "colab": {
          "base_uri": "https://localhost:8080/"
        },
        "id": "RjNTPA7igGfL",
        "outputId": "4205aa34-9077-495a-f231-452ae0493d2a"
      },
      "execution_count": null,
      "outputs": [
        {
          "output_type": "stream",
          "name": "stdout",
          "text": [
            "[[1 2 4]\n",
            " [2 3 4]]\n"
          ]
        }
      ]
    },
    {
      "cell_type": "code",
      "source": [
        "array1=np.array(i for i in range(0,10,2))\n",
        "print(array1)"
      ],
      "metadata": {
        "colab": {
          "base_uri": "https://localhost:8080/"
        },
        "id": "oZJZ3dpahHri",
        "outputId": "3e4fce94-df00-46a9-98b6-966f3588884f"
      },
      "execution_count": null,
      "outputs": [
        {
          "output_type": "stream",
          "name": "stdout",
          "text": [
            "<generator object <genexpr> at 0x7c41b10876b0>\n"
          ]
        }
      ]
    },
    {
      "cell_type": "markdown",
      "source": [],
      "metadata": {
        "id": "QuzNnCd8haNt"
      }
    },
    {
      "cell_type": "code",
      "source": [
        "c=np.array([[1,2,3],[4,5,6]],dtype=float)\n",
        "print(c)"
      ],
      "metadata": {
        "colab": {
          "base_uri": "https://localhost:8080/"
        },
        "id": "9MqAB7cwhdtP",
        "outputId": "caf958f3-5581-4778-9ba1-a630917e4a42"
      },
      "execution_count": null,
      "outputs": [
        {
          "output_type": "stream",
          "name": "stdout",
          "text": [
            "[[1. 2. 3.]\n",
            " [4. 5. 6.]]\n"
          ]
        }
      ]
    },
    {
      "cell_type": "code",
      "source": [
        "zeroes_array=np.zeros((4,5)) #4 and 5 are the dimensions respectively\n",
        "print(zeroes_array)"
      ],
      "metadata": {
        "colab": {
          "base_uri": "https://localhost:8080/"
        },
        "id": "dfMMjjHZh7-C",
        "outputId": "741ca85b-669f-400c-c357-5d9296d1c3a5"
      },
      "execution_count": null,
      "outputs": [
        {
          "output_type": "stream",
          "name": "stdout",
          "text": [
            "[[0. 0. 0. 0. 0.]\n",
            " [0. 0. 0. 0. 0.]\n",
            " [0. 0. 0. 0. 0.]\n",
            " [0. 0. 0. 0. 0.]]\n"
          ]
        }
      ]
    },
    {
      "cell_type": "code",
      "source": [
        "#to create arrays of ones\n",
        "y=np.ones((3,3))\n",
        "print(y)"
      ],
      "metadata": {
        "id": "e9mmpTcyiQZM",
        "colab": {
          "base_uri": "https://localhost:8080/"
        },
        "outputId": "78430d81-31aa-407d-ba61-040d9722dd48"
      },
      "execution_count": 10,
      "outputs": [
        {
          "output_type": "stream",
          "name": "stdout",
          "text": [
            "[[1. 1. 1.]\n",
            " [1. 1. 1.]\n",
            " [1. 1. 1.]]\n"
          ]
        }
      ]
    },
    {
      "cell_type": "code",
      "source": [
        "#to create arrays of a fixed value full is used and then the value is specified\n",
        "z=np.full((3,3),4)\n",
        "print(z)"
      ],
      "metadata": {
        "colab": {
          "base_uri": "https://localhost:8080/"
        },
        "id": "eIaMYZFRm2b9",
        "outputId": "52cfcffc-9db3-4416-da14-94e838d15f88"
      },
      "execution_count": 11,
      "outputs": [
        {
          "output_type": "stream",
          "name": "stdout",
          "text": [
            "[[4 4 4]\n",
            " [4 4 4]\n",
            " [4 4 4]]\n"
          ]
        }
      ]
    },
    {
      "cell_type": "code",
      "source": [
        "#identity matrix\n",
        "\n",
        "ar=np.eye((2))\n",
        "print(ar)"
      ],
      "metadata": {
        "colab": {
          "base_uri": "https://localhost:8080/"
        },
        "id": "n_ty7R0bnCo7",
        "outputId": "e7e0ba33-5b58-4143-9383-954d77ac9158"
      },
      "execution_count": 14,
      "outputs": [
        {
          "output_type": "stream",
          "name": "stdout",
          "text": [
            "[[1. 0.]\n",
            " [0. 1.]]\n"
          ]
        }
      ]
    },
    {
      "cell_type": "code",
      "source": [
        "#to create array of random values np.random.random fn is used\n",
        "b=np.random.random((2,3))\n",
        "\n",
        "print(b)"
      ],
      "metadata": {
        "colab": {
          "base_uri": "https://localhost:8080/"
        },
        "id": "5PRgvyQdnRxW",
        "outputId": "417b1bdc-c6aa-448d-e297-4cb7884186e5"
      },
      "execution_count": 16,
      "outputs": [
        {
          "output_type": "stream",
          "name": "stdout",
          "text": [
            "[[0.33220964 0.74457607 0.09769842]\n",
            " [0.38852208 0.66713753 0.9219445 ]]\n"
          ]
        }
      ]
    },
    {
      "cell_type": "code",
      "source": [
        "# to create a random matrix of int within the specifeid range the np.random.ranodmint fn is used syntax--np.random.randomint(starting value,ending value,(dimension1,dimension2))\n",
        "c=np.random.randint(1,20,(3,3))\n",
        "print(c)"
      ],
      "metadata": {
        "colab": {
          "base_uri": "https://localhost:8080/"
        },
        "id": "hvdi5IJDnqbm",
        "outputId": "05dfe945-2415-45e6-ddb7-d4d152f31f47"
      },
      "execution_count": 17,
      "outputs": [
        {
          "output_type": "stream",
          "name": "stdout",
          "text": [
            "[[ 6 18 15]\n",
            " [14 18 19]\n",
            " [13 16  3]]\n"
          ]
        }
      ]
    },
    {
      "cell_type": "code",
      "source": [
        "#to get array of evenly spaced integers np.linspace(min_val,max_val,number of values we want)\n",
        "d=np.linspace(10,30,5)\n",
        "print(d)"
      ],
      "metadata": {
        "colab": {
          "base_uri": "https://localhost:8080/"
        },
        "id": "QmGNYaGEn2uD",
        "outputId": "3e67d65e-e6ae-42ac-cf37-ed15d8177085"
      },
      "execution_count": 18,
      "outputs": [
        {
          "output_type": "stream",
          "name": "stdout",
          "text": [
            "[10. 15. 20. 25. 30.]\n"
          ]
        }
      ]
    },
    {
      "cell_type": "code",
      "source": [
        "# convert list to array by np.asarray()\n",
        "\n",
        "list=[1,2,3,4,5]\n",
        "e=np.asarray(list,dtype=float)\n",
        "print(d)"
      ],
      "metadata": {
        "colab": {
          "base_uri": "https://localhost:8080/"
        },
        "id": "uZCEWH1Mo0Lz",
        "outputId": "0276a3c4-c60d-4756-e71b-69e723c959f8"
      },
      "execution_count": 21,
      "outputs": [
        {
          "output_type": "stream",
          "name": "stdout",
          "text": [
            "[10. 15. 20. 25. 30.]\n"
          ]
        }
      ]
    },
    {
      "cell_type": "code",
      "source": [
        "#analyse the array\n",
        "\n",
        "c=np.random.randint(1,20,(5,5))\n",
        "print(c)\n",
        "#dimension\n",
        "print(c.shape)\n",
        "#number of dimensions\n",
        "print(c.ndim)\n",
        "#no of elemenst\n",
        "print(c.size)\n",
        "# datatype\n",
        "print(c.dtype)"
      ],
      "metadata": {
        "colab": {
          "base_uri": "https://localhost:8080/"
        },
        "id": "92RoCWEjprs9",
        "outputId": "b862bdf2-97a4-4304-b966-097d707baebc"
      },
      "execution_count": 22,
      "outputs": [
        {
          "output_type": "stream",
          "name": "stdout",
          "text": [
            "[[18 18  2  8 14]\n",
            " [ 4 14 16 17 10]\n",
            " [13  2 15 17  2]\n",
            " [ 3  5 17 11 15]\n",
            " [11  4  9  3  8]]\n",
            "(5, 5)\n",
            "2\n",
            "25\n",
            "int64\n"
          ]
        }
      ]
    },
    {
      "cell_type": "code",
      "source": [
        "#mathematical operations on numpy array\n",
        "\n",
        "a=np.random.randint(0,10,(3,3))\n",
        "b=np.random.randint(10,20,(3,3))\n",
        "print(a)\n",
        "print(b)\n",
        "\n",
        "print(a+b) #element wise addition does not concatenate similar multiply sub and div\n",
        "print(np.add(a,b))\n",
        "\n",
        "print(a-b)\n",
        "print(np.subtract(a,b))\n",
        "\n",
        "print(a*b)\n",
        "print(np.multiply(a,b))\n",
        "\n",
        "print(a/b)\n",
        "print(np.divide(a,b))"
      ],
      "metadata": {
        "colab": {
          "base_uri": "https://localhost:8080/"
        },
        "id": "ajQ_pnDjqmfy",
        "outputId": "63161adb-08b9-4937-f490-5d2585a837fe"
      },
      "execution_count": 26,
      "outputs": [
        {
          "output_type": "stream",
          "name": "stdout",
          "text": [
            "[[9 9 7]\n",
            " [5 4 9]\n",
            " [0 1 8]]\n",
            "[[12 19 14]\n",
            " [14 18 16]\n",
            " [13 11 15]]\n",
            "[[21 28 21]\n",
            " [19 22 25]\n",
            " [13 12 23]]\n",
            "[[21 28 21]\n",
            " [19 22 25]\n",
            " [13 12 23]]\n",
            "[[ -3 -10  -7]\n",
            " [ -9 -14  -7]\n",
            " [-13 -10  -7]]\n",
            "[[ -3 -10  -7]\n",
            " [ -9 -14  -7]\n",
            " [-13 -10  -7]]\n",
            "[[108 171  98]\n",
            " [ 70  72 144]\n",
            " [  0  11 120]]\n",
            "[[108 171  98]\n",
            " [ 70  72 144]\n",
            " [  0  11 120]]\n",
            "[[0.75       0.47368421 0.5       ]\n",
            " [0.35714286 0.22222222 0.5625    ]\n",
            " [0.         0.09090909 0.53333333]]\n",
            "[[0.75       0.47368421 0.5       ]\n",
            " [0.35714286 0.22222222 0.5625    ]\n",
            " [0.         0.09090909 0.53333333]]\n"
          ]
        }
      ]
    },
    {
      "cell_type": "code",
      "source": [
        "#array manupulation\n",
        "\n",
        "array=np.random.randint(0,10,(2,3))\n",
        "print(array)\n",
        "print(array.shape)"
      ],
      "metadata": {
        "colab": {
          "base_uri": "https://localhost:8080/"
        },
        "id": "y8Ugph88rWti",
        "outputId": "5569af6f-ff7e-4c3b-c3b0-26eb704b0b53"
      },
      "execution_count": 27,
      "outputs": [
        {
          "output_type": "stream",
          "name": "stdout",
          "text": [
            "[[5 5 4]\n",
            " [5 8 7]]\n",
            "(2, 3)\n"
          ]
        }
      ]
    },
    {
      "cell_type": "code",
      "source": [
        "trans=np.transpose(array)\n",
        "print(trans)\n",
        "print(trans.shape)"
      ],
      "metadata": {
        "colab": {
          "base_uri": "https://localhost:8080/"
        },
        "id": "zzVsz4cprfsc",
        "outputId": "4973a07d-fdca-48fa-f76b-3f6d9dede4da"
      },
      "execution_count": 28,
      "outputs": [
        {
          "output_type": "stream",
          "name": "stdout",
          "text": [
            "[[5 5]\n",
            " [5 8]\n",
            " [4 7]]\n",
            "(3, 2)\n"
          ]
        }
      ]
    },
    {
      "cell_type": "code",
      "source": [],
      "metadata": {
        "id": "gDXrvLh2ri8C"
      },
      "execution_count": null,
      "outputs": []
    }
  ]
}